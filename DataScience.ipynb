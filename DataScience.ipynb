{
 "cells": [
  {
   "cell_type": "code",
   "execution_count": 1,
   "metadata": {},
   "outputs": [
    {
     "name": "stderr",
     "output_type": "stream",
     "text": [
      "C:\\Users\\jmvig\\Anaconda3\\lib\\site-packages\\sklearn\\cross_validation.py:41: DeprecationWarning: This module was deprecated in version 0.18 in favor of the model_selection module into which all the refactored classes and functions are moved. Also note that the interface of the new CV iterators are different from that of this module. This module will be removed in 0.20.\n",
      "  \"This module will be removed in 0.20.\", DeprecationWarning)\n"
     ]
    }
   ],
   "source": [
    "import pandas as pd ; import numpy as np; import random as rnd ;import math\n",
    "#importing data visualization packages\n",
    "import seaborn as sns ; import matplotlib.pyplot as plt\n",
    "%matplotlib inline\n",
    "#importing machine learning packages\n",
    "from sklearn.linear_model import LogisticRegression\n",
    "from sklearn.svm import SVC, LinearSVC\n",
    "from sklearn.ensemble import RandomForestClassifier\n",
    "from sklearn.neighbors import KNeighborsClassifier\n",
    "from sklearn.naive_bayes import GaussianNB\n",
    "from sklearn.linear_model import Perceptron\n",
    "from sklearn.linear_model import SGDClassifier\n",
    "from sklearn.tree import DecisionTreeClassifier\n",
    "from sklearn.cross_validation import train_test_split\n",
    "from sklearn.metrics import accuracy_score\n",
    "from sklearn.ensemble import GradientBoostingClassifier\n",
    "from sklearn.neural_network import MLPClassifier\n",
    "from sklearn.preprocessing import Imputer\n",
    "from sklearn.metrics import roc_curve\n",
    "from sklearn.metrics import roc_auc_score\n",
    "from IPython.display import display, Math, Latex\n",
    "import os; import warnings\n",
    "warnings.filterwarnings(\"ignore\",category=DeprecationWarning)\n",
    "from sklearn.exceptions import DataConversionWarning\n",
    "warnings.filterwarnings(action='ignore', category=DataConversionWarning)\n",
    "from sklearn.ensemble import RandomForestClassifier\n",
    "\n",
    "import warnings\n",
    "from colorama import Fore, Back, Style \n",
    "import pandas as pd\n",
    "import os\n",
    "import numpy as np\n",
    "import scattertext as st\n",
    "import seaborn as sns\n",
    "from sklearn.feature_extraction.text import CountVectorizer\n",
    "from sklearn.decomposition import PCA\n",
    "from sklearn.preprocessing import StandardScaler\n",
    "#import sys                                                    #Causes problems with regression in skikitlearn \n",
    "#reload(sys)                                                   #later on. Find different way to make Count Vectorizer\n",
    "#sys.setdefaultencoding('utf8')                                #work. In future be carefull making global changes\n",
    "from sklearn.feature_extraction.text import TfidfVectorizer\n",
    "from sklearn.cross_validation import train_test_split\n",
    "from sklearn.model_selection import GridSearchCV\n",
    "from sklearn.model_selection import cross_val_score\n",
    "from sklearn.linear_model import LinearRegression\n",
    "from sklearn.linear_model import Ridge\n",
    "from sklearn.neighbors import KNeighborsRegressor\n",
    "from sklearn.linear_model import Lasso\n",
    "from sklearn.tree import DecisionTreeRegressor\n",
    "from sklearn.ensemble import GradientBoostingRegressor\n",
    "from sklearn.ensemble import AdaBoostRegressor\n",
    "from sklearn.ensemble import ExtraTreesRegressor\n",
    "from sklearn.ensemble import RandomForestRegressor\n",
    "from sklearn.gaussian_process import GaussianProcessRegressor\n",
    "from sklearn.linear_model import ARDRegression\n",
    "from sklearn.ensemble import BaggingRegressor\n",
    "from scipy.cluster.hierarchy import dendrogram, linkage\n",
    "\n",
    "import matplotlib.pyplot as plt"
   ]
  },
  {
   "cell_type": "code",
   "execution_count": 2,
   "metadata": {},
   "outputs": [
    {
     "name": "stdout",
     "output_type": "stream",
     "text": [
      "Requirement already satisfied: scattertext in c:\\users\\jaya3225\\appdata\\local\\continuum\\anaconda3\\lib\\site-packages (0.0.2.43)\n",
      "Requirement already satisfied: numpy in c:\\users\\jaya3225\\appdata\\local\\continuum\\anaconda3\\lib\\site-packages (from scattertext) (1.14.3)\n",
      "Requirement already satisfied: pandas in c:\\users\\jaya3225\\appdata\\local\\continuum\\anaconda3\\lib\\site-packages (from scattertext) (0.23.0)\n",
      "Requirement already satisfied: six in c:\\users\\jaya3225\\appdata\\local\\continuum\\anaconda3\\lib\\site-packages (from scattertext) (1.11.0)\n",
      "Requirement already satisfied: scipy in c:\\users\\jaya3225\\appdata\\local\\continuum\\anaconda3\\lib\\site-packages (from scattertext) (1.1.0)\n",
      "Requirement already satisfied: scikit-learn in c:\\users\\jaya3225\\appdata\\local\\continuum\\anaconda3\\lib\\site-packages (from scattertext) (0.19.1)\n",
      "Requirement already satisfied: mock in c:\\users\\jaya3225\\appdata\\local\\continuum\\anaconda3\\lib\\site-packages (from scattertext) (2.0.0)\n",
      "Requirement already satisfied: python-dateutil>=2.5.0 in c:\\users\\jaya3225\\appdata\\local\\continuum\\anaconda3\\lib\\site-packages (from pandas->scattertext) (2.7.3)\n",
      "Requirement already satisfied: pytz>=2011k in c:\\users\\jaya3225\\appdata\\local\\continuum\\anaconda3\\lib\\site-packages (from pandas->scattertext) (2018.4)\n",
      "Requirement already satisfied: pbr>=0.11 in c:\\users\\jaya3225\\appdata\\local\\continuum\\anaconda3\\lib\\site-packages (from mock->scattertext) (5.1.3)\n"
     ]
    },
    {
     "name": "stderr",
     "output_type": "stream",
     "text": [
      "distributed 1.21.8 requires msgpack, which is not installed.\n",
      "You are using pip version 10.0.1, however version 19.0.3 is available.\n",
      "You should consider upgrading via the 'python -m pip install --upgrade pip' command.\n"
     ]
    }
   ],
   "source": [
    "!pip install scattertext"
   ]
  },
  {
   "cell_type": "markdown",
   "metadata": {},
   "source": [
    "## predic_13_chgenro - data2013_y1 - random forest"
   ]
  },
  {
   "cell_type": "code",
   "execution_count": 3,
   "metadata": {},
   "outputs": [
    {
     "data": {
      "text/plain": [
       "array([1., 1., 1., 1., 1., 1., 1., 1., 1., 1., 1., 1., 1., 1., 1., 1., 1.,\n",
       "       1., 1., 1., 1., 1., 1., 1., 1., 1., 1., 1., 1., 1., 1., 1., 1., 1.,\n",
       "       1., 1., 1., 1., 1., 1., 1., 1., 1., 1., 1., 1., 1., 1., 1., 1., 1.,\n",
       "       1., 1., 1., 1., 1., 1., 1., 1., 1., 1., 1., 1., 1., 1., 1., 1., 1.,\n",
       "       1., 1., 1., 1., 1., 1., 1., 1., 1., 1., 1., 1., 1., 1., 1., 1., 1.,\n",
       "       1., 1., 1., 1., 1., 1., 1., 1., 1., 1., 1., 1., 1., 1., 1., 1., 1.,\n",
       "       1., 1., 1., 1., 1., 1., 1., 1., 1., 1., 1., 1., 1., 1., 1., 1., 1.,\n",
       "       1., 1., 1., 1., 1., 1., 1., 1., 1., 1., 1., 1., 1., 1., 1., 1., 1.,\n",
       "       1., 1., 1., 1., 1., 1., 1., 1., 1., 1., 1., 1., 1., 1., 1., 1., 1.,\n",
       "       1., 1., 1., 1., 1., 1., 1., 1., 1., 1., 1., 1., 1., 1., 1., 1., 1.,\n",
       "       1., 1., 1., 1., 1., 1., 1., 1., 1., 1., 1., 1., 1., 1., 1., 1., 1.,\n",
       "       1., 1., 1., 1., 1., 1., 1., 1., 1., 1., 1., 1., 1., 1., 1., 1., 1.,\n",
       "       1., 1., 1., 1., 1., 1., 1., 1., 1., 1., 1., 1., 1., 1., 1., 1., 1.,\n",
       "       1., 1., 1., 1., 1., 1., 1., 1., 1., 1., 1., 1., 1., 1., 1., 1., 1.,\n",
       "       1., 1., 1., 1., 1., 1., 1., 1., 1., 1., 1., 1., 1., 1., 1., 1., 1.,\n",
       "       1., 1., 1., 1., 1., 1., 1., 1., 1., 1., 1., 1., 1., 1., 1., 1., 1.,\n",
       "       1., 1., 1., 1., 1., 1., 1., 1., 1., 1., 1., 1., 1., 1., 1., 1., 1.,\n",
       "       1., 1., 1., 1., 1., 1., 1., 1.])"
      ]
     },
     "execution_count": 3,
     "metadata": {},
     "output_type": "execute_result"
    }
   ],
   "source": [
    "data2013_y1 = pd.read_csv(\"https://raw.githubusercontent.com/vigneshjmurali/Data-Science-Comp/master/Imputed/data2013_y1.csv\")\n",
    "data2013_y1.head(3)\n",
    "data2013_y1.shape\n",
    "pred2013_y1 = pd.read_csv(\"https://raw.githubusercontent.com/vigneshjmurali/Data-Science-Comp/master/Imputed/prediction_13y1.csv\")\n",
    "pred2013_y1.head(3)\n",
    "pred2013_y1.shape\n",
    "xtrainy1=pd.DataFrame(data2013_y1.values[:,1:27])\n",
    "xtesty1=pd.DataFrame(pred2013_y1.values[:,1:27])\n",
    "ytrainy1=pd.DataFrame(data2013_y1.values[:,27])\n",
    "ytesty1=pd.DataFrame(pred2013_y1.values[:,27])\n",
    "rfr = RandomForestRegressor().fit(xtrainy1, ytrainy1)\n",
    "y_mody1=rfr.predict(xtesty1)\n",
    "y_mody1\n",
    "#y_mody1=pd.DataFrame(y_mody1)\n",
    "#y_mody1.to_csv('pred13_y1.csv', index=False, header=False)"
   ]
  },
  {
   "cell_type": "markdown",
   "metadata": {},
   "source": [
    "## predic_13_Fracdeg - data2013_y2 - random forest"
   ]
  },
  {
   "cell_type": "code",
   "execution_count": 4,
   "metadata": {},
   "outputs": [
    {
     "data": {
      "text/plain": [
       "array([0.20455424, 0.16573324, 0.17016377, 0.19128597, 0.19429157,\n",
       "       0.33530289, 0.18120881, 0.20076536, 0.1967223 , 0.1708384 ,\n",
       "       0.22867555, 0.28810903, 0.18251487, 0.22362809, 0.27192149,\n",
       "       0.21926575, 0.24670981, 0.32440464, 0.20862976, 0.18864336,\n",
       "       0.18709265, 0.22957104, 0.22629524, 0.25859801, 0.23990237,\n",
       "       0.17127379, 0.19903151, 0.36068517, 0.24148614, 0.24389442,\n",
       "       0.25616263, 0.16387528, 0.26177761, 0.26325779, 0.18328421,\n",
       "       0.22679861, 0.18679547, 0.19846237, 0.35291904, 0.40408406,\n",
       "       0.26726607, 0.22237201, 0.17707859, 0.13988252, 0.15443603,\n",
       "       0.20660465, 0.14597674, 0.16478832, 0.20640163, 0.20049246,\n",
       "       0.19710505, 0.19417018, 0.14930786, 0.20188386, 0.23550949,\n",
       "       0.2090014 , 0.19479672, 0.15242692, 0.17888347, 0.1954186 ,\n",
       "       0.23309272, 0.27329624, 0.185734  , 0.18446294, 0.18547388,\n",
       "       0.19325586, 0.19401206, 0.23334143, 0.20429724, 0.20392437,\n",
       "       0.22755082, 0.21418332, 0.19910526, 0.19291775, 0.21562804,\n",
       "       0.19187753, 0.18976883, 0.1949766 , 0.19225344, 0.17050473,\n",
       "       0.20521227, 0.14299398, 0.15496025, 0.16099928, 0.1670271 ,\n",
       "       0.23348347, 0.2508393 , 0.22622779, 0.2363223 , 0.21997383,\n",
       "       0.28305041, 0.24898714, 0.2114949 , 0.13167734, 0.20471655,\n",
       "       0.17825458, 0.19478591, 0.20893435, 0.25644904, 0.23449026,\n",
       "       0.2154824 , 0.19093114, 0.18641187, 0.17903667, 0.22225871,\n",
       "       0.23734194, 0.17113409, 0.16874971, 0.22244001, 0.19864661,\n",
       "       0.22812661, 0.20806623, 0.22976852, 0.14960707, 0.14695925,\n",
       "       0.18606154, 0.15496269, 0.2035228 , 0.1805791 , 0.19931316,\n",
       "       0.19180894, 0.19723617, 0.188726  , 0.18107929, 0.16011979,\n",
       "       0.21693587, 0.21412039, 0.20940214, 0.16193959, 0.17455331,\n",
       "       0.15766249, 0.21109353, 0.1949973 , 0.20632529, 0.16861463,\n",
       "       0.23151875, 0.18733393, 0.24141056, 0.24422677, 0.20273754,\n",
       "       0.28479554, 0.21428882, 0.11458696, 0.17004604, 0.28308757,\n",
       "       0.22134084, 0.22536065, 0.13528614, 0.21389851, 0.20050632,\n",
       "       0.20336735, 0.19626056, 0.27022709, 0.24354031, 0.17025071,\n",
       "       0.25468701, 0.21308207, 0.16477209, 0.15614533, 0.20964955,\n",
       "       0.21778198, 0.21379535, 0.23896096, 0.18527752, 0.21349666,\n",
       "       0.09639545, 0.29831676, 0.09631284, 0.16211594, 0.20630442,\n",
       "       0.15650143, 0.21993301, 0.17238127, 0.18453885, 0.21719966,\n",
       "       0.19094526, 0.18972034, 0.1979463 , 0.21023156, 0.19340038,\n",
       "       0.20671821, 0.19048211, 0.1847395 , 0.19872741, 0.19795226,\n",
       "       0.10110301, 0.20714178, 0.21086089, 0.1622347 , 0.19214357,\n",
       "       0.1791031 , 0.22110456, 0.19233352, 0.3915697 , 0.22052898,\n",
       "       0.18095858, 0.23140569, 0.21266341, 0.20086017, 0.23817555,\n",
       "       0.27295654, 0.17366578, 0.19581725, 0.24738568, 0.22318147,\n",
       "       0.43018335, 0.18058653, 0.13266719, 0.12712491, 0.24744565,\n",
       "       0.18837632, 0.19500224, 0.20725358, 0.19784088, 0.18707507,\n",
       "       0.17069507, 0.17157284, 0.1955802 , 0.16952422, 0.10190269,\n",
       "       0.16184052, 0.23840133, 0.18977665, 0.19681931, 0.15963935,\n",
       "       0.17072851, 0.19680712, 0.1927119 , 0.21754841, 0.21706796,\n",
       "       0.18896622, 0.14360335, 0.18123197, 0.1578372 , 0.17911851,\n",
       "       0.21803664, 0.16258595, 0.19048475, 0.21799247, 0.20418674,\n",
       "       0.2417015 , 0.16278374, 0.22921116, 0.18643358, 0.21158939,\n",
       "       0.21638093, 0.18526183, 0.2039893 , 0.17832274, 0.12567953,\n",
       "       0.17229636, 0.13332327, 0.12293177, 0.20083204, 0.164697  ,\n",
       "       0.18533362, 0.17274844, 0.13809624, 0.17268718, 0.16107037,\n",
       "       0.17121565, 0.17503361, 0.17723708, 0.13578927, 0.19433353,\n",
       "       0.10805056, 0.09533904, 0.10735409, 0.31870924, 0.20344468,\n",
       "       0.20278287, 0.31863506, 0.20861384, 0.24457468, 0.14599499,\n",
       "       0.19391794, 0.22057068, 0.14638699, 0.15652634, 0.21583261,\n",
       "       0.33382574, 0.26115634, 0.24340726, 0.26258083, 0.16566998,\n",
       "       0.09038818, 0.15438642, 0.14986144, 0.15321478, 0.10056983,\n",
       "       0.18459747, 0.16142825, 0.14333379, 0.14939125, 0.18183384,\n",
       "       0.16088622, 0.15118646])"
      ]
     },
     "execution_count": 4,
     "metadata": {},
     "output_type": "execute_result"
    }
   ],
   "source": [
    "data2013_y2 = pd.read_csv(\"https://raw.githubusercontent.com/vigneshjmurali/Data-Science-Comp/master/Imputed/data2013_y2.csv\")\n",
    "data2013_y2.head(3)\n",
    "data2013_y2.shape\n",
    "pred2013_y2 = pd.read_csv(\"https://raw.githubusercontent.com/vigneshjmurali/Data-Science-Comp/master/Imputed/prediction_13y2.csv\")\n",
    "pred2013_y2.head(3)\n",
    "pred2013_y2.shape\n",
    "xtrainy2=pd.DataFrame(data2013_y2.values[:,1:27])\n",
    "xtesy2=pd.DataFrame(pred2013_y2.values[:,1:27])\n",
    "ytrainy2=pd.DataFrame(data2013_y2.values[:,27])\n",
    "ytesty2=pd.DataFrame(pred2013_y2.values[:,27])\n",
    "rfr = RandomForestRegressor().fit(xtrainy2, ytrainy2)\n",
    "y_mody2=rfr.predict(xtesy2)\n",
    "y_mody2\n",
    "#y_mody2=pd.DataFrame(y_mody2)\n",
    "#y_mody2.to_csv('pred13_y2.csv', index=False, header=False)"
   ]
  },
  {
   "cell_type": "markdown",
   "metadata": {},
   "source": [
    "## predict_13_RETPCNT - data2013_y3 - random forest"
   ]
  },
  {
   "cell_type": "code",
   "execution_count": 5,
   "metadata": {},
   "outputs": [
    {
     "data": {
      "text/plain": [
       "array([87.6,  5.6,  5.6, 31.6,  0. , 29.4, 87.1, 59.5, 87.3, 75.7, 11.4,\n",
       "       97.8,  0. ,  0. , 92.2,  0. ,  0. ,  0. ,  0. ,  0. , 39.2, 84.7,\n",
       "       85.4,  0. , 94.5, 30.3,  0. ,  5.6, 55.6, 82.5,  0. , 11.7, 97.9,\n",
       "       83.5,  0. , 83.9, 15.4, 32.4,  5.6,  5.6, 86.9, 91.5,  0. ,  5.6,\n",
       "       30.4,  5.6,  5.6,  5.6, 32.9,  5.6,  5.6, 36.3,  5.6, 41.5, 83.9,\n",
       "       15.1, 34.7, 23.2,  0. , 32.6,  0. , 98. , 73.1, 33.9, 70.2, 15. ,\n",
       "       76.6, 89.4, 80.4, 15.8, 82.7, 89.3,  0. ,  0. ,  0. ,  0. ,  6.9,\n",
       "       13.9,  0. ,  0. ,  0. ,  0. , 62. ,  0. ,  0. ,  0. , 87. , 86. ,\n",
       "        0. , 39. , 97.7, 19.8, 83.9, 37.5, 78.6, 84.7, 88. , 81.1, 94.2,\n",
       "       89.1, 81.7, 80.7,  0. ,  0. , 80.3,  0. ,  6.7,  0. , 31.2,  0. ,\n",
       "       90.8,  0. , 85.6,  0. , 66.6, 77.8,  7.9, 11.2, 25.4, 11.2, 82.6,\n",
       "       90.8, 40.7, 84.5, 52.7, 89. , 11.2, 33.4,  0. ,  0. ,  0. ,  0. ,\n",
       "        0. ,  0. ,  0. , 89.2,  0. , 82.4, 84.6, 78.7,  0. ,  0. , 22.2,\n",
       "        0. , 98.2, 82.6, 88.1,  0. ,  5.6,  0. ,  0. ,  0. , 93.5, 33. ,\n",
       "        0. , 86.1, 75.6,  0. ,  0. , 90.8, 89.1, 83.2, 33.7, 90.3, 79.5,\n",
       "        0. ,  5.6,  0. ,  1.6,  5.6,  5.6, 89.5,  5.6,  5.6, 72. ,  5.6,\n",
       "       28.9,  0. , 81.5, 28.8, 87.2,  0. , 32.7, 28.5, 38.3, 29.4, 37.7,\n",
       "       85.3, 11.2, 33.7, 12.9, 65.3, 31.3,  0. ,  0. ,  0. , 39.9, 55.9,\n",
       "        0. ,  0. , 92. , 14. ,  7.5, 31.9, 90.3,  5.6, 57.1, 51.2,  0. ,\n",
       "        0. ,  0. ,  5.4,  0. ,  0. , 16.7,  0. ,  0. ,  0. ,  0. ,  0. ,\n",
       "       72.2, 86.6, 61.4, 31.2,  5.6,  5.6, 31.1,  5.6, 87.1, 86.8,  5.6,\n",
       "       11.2, 11.2, 30.2, 11.2, 83. , 11.2, 24.8, 85. , 77.8, 92.8, 51.3,\n",
       "       88. , 90.5, 77.5, 84.6,  0. , 15.2, 15.2,  0. , 77.6,  0. ,  0. ,\n",
       "        0. ,  0. , 66. , 14.4, 30.6, 32.5,  0. , 49.4, 32.2, 15.3,  0. ,\n",
       "        5.6,  0. ,  0. ,  0. , 16.8,  0. , 61.3,  5.6, 16. , 96.2,  0. ,\n",
       "       38. , 58. ,  0. ,  0. ,  0. ,  5.6,  0. ,  0. ,  0. , 11.2, 16.8,\n",
       "       11.2,  5.6,  0. ,  0. ,  0. ,  0. ,  0. ,  5.6, 11.2,  0. ,  7.2])"
      ]
     },
     "execution_count": 5,
     "metadata": {},
     "output_type": "execute_result"
    }
   ],
   "source": [
    "data2013_y3 = pd.read_csv(\"https://raw.githubusercontent.com/vigneshjmurali/Data-Science-Comp/master/Imputed/data2013_y3.csv\")\n",
    "data2013_y3.head(3)\n",
    "data2013_y3.shape\n",
    "pred2013_y3 = pd.read_csv(\"https://raw.githubusercontent.com/vigneshjmurali/Data-Science-Comp/master/Imputed/prediction_13y3.csv\")\n",
    "pred2013_y3.head(3)\n",
    "pred2013_y3.shape\n",
    "xtrainy3=pd.DataFrame(data2013_y3.values[:,1:27])\n",
    "xtesty3=pd.DataFrame(pred2013_y3.values[:,1:27])\n",
    "ytrainy3=pd.DataFrame(data2013_y3.values[:,27])\n",
    "ytesty3=pd.DataFrame(pred2013_y3.values[:,27])\n",
    "rfr = RandomForestRegressor().fit(xtrainy3, ytrainy3)\n",
    "y_mody3=rfr.predict(xtesty3)\n",
    "y_mody3"
   ]
  },
  {
   "cell_type": "markdown",
   "metadata": {},
   "source": [
    "## predict_13_RETPCNT - data2013_y3 - bagging regressor"
   ]
  },
  {
   "cell_type": "code",
   "execution_count": 6,
   "metadata": {},
   "outputs": [
    {
     "data": {
      "text/plain": [
       "array([86.6,  0. ,  0. , 11.6,  0. , 39.6, 85.1, 51.1, 86.8, 75.9,  0. ,\n",
       "       97.1,  0. ,  0. , 92.7,  0. , 11.2,  0. ,  0. ,  0. , 15.4, 87.7,\n",
       "       85.1,  7.9, 94.6,  6. ,  0. , 22.4, 54.9, 85. ,  8.2,  0. , 97. ,\n",
       "       83.4,  0. , 76.2,  0. ,  7. , 22.4, 28. , 85. , 93.1,  0. ,  0. ,\n",
       "       11.6,  0. ,  0. ,  0. , 15.6,  0. ,  0. , 37.2,  0. , 36.6, 86.8,\n",
       "        0. , 39. , 13.6,  0. ,  8.1,  7.9, 96.8, 82.5, 41.1, 79.5,  0. ,\n",
       "       75.7, 93.4, 78.2,  0. , 82.4, 89.9,  0. ,  0. ,  0. ,  0. ,  0. ,\n",
       "        0. ,  0. ,  0. ,  0. ,  0. , 66. ,  0. ,  0. ,  9.6, 87.7, 87.2,\n",
       "        7.9,  7.3, 96.7, 17.3, 88. , 37.6, 79.8, 82.6, 85.7, 79.7, 94.4,\n",
       "       90.8, 81.4, 76.2,  0. ,  0. , 80.1,  0. ,  0. ,  0. , 16.1,  0. ,\n",
       "       90.5,  0. , 87.7, 11.2, 69.2, 80.7,  0. ,  0. ,  0. ,  0. , 85. ,\n",
       "       89. , 38.9, 81.8, 45.5, 90.7,  0. ,  7.9,  0. ,  0. ,  0. ,  7.5,\n",
       "        0. ,  0. ,  0. , 88.5, 11.2, 84.8, 86.5, 81.3,  7.5,  9.4, 13.2,\n",
       "       22.4, 97.1, 84.3, 83.1,  0. , 11.2,  0. ,  0. ,  0. , 94.4,  8.1,\n",
       "        0. , 85.1, 70.8,  0. ,  0. , 92.2, 87.2, 82.8,  8.7, 90.3, 77.2,\n",
       "        0. , 11.2,  0. ,  0. ,  0. ,  0. , 90.9,  0. ,  0. , 73. ,  0. ,\n",
       "        7.9,  0. , 85.2,  6.9, 88.3,  0. ,  7. ,  7.3, 15.5, 14.7,  6. ,\n",
       "       85.6,  0. ,  8.4,  0. , 56.2, 14.4,  0. ,  7.8,  0. , 40.3, 58.1,\n",
       "        0. ,  7.5, 92.4,  0. ,  0. ,  8.4, 88.6, 22.4, 59.9, 63.9,  0. ,\n",
       "        0. ,  0. ,  5.6,  8.5,  0. ,  0. ,  0. ,  0. ,  0. ,  0. ,  0. ,\n",
       "       69.9, 87. , 47.4,  7.6,  0. ,  0. ,  8.3,  0. , 90.3, 86.3,  0. ,\n",
       "        0. ,  0. , 14.2,  0. , 79.2,  0. ,  0. , 85. , 80.9, 92.2, 51. ,\n",
       "       85.5, 87.7, 78.7, 86.3,  0. ,  0. ,  0. ,  0. , 76.4,  0. ,  0. ,\n",
       "        7.7,  0. , 56.7,  0. , 14.8,  8.4,  0. , 52.2,  7.9,  0. , 11.2,\n",
       "       28. , 11.2, 11.2, 11.2,  0. ,  0. , 54.6, 22.4,  0. , 95.8, 11.2,\n",
       "       41.7, 58.3,  0. ,  0. ,  0. , 28. , 13.5, 13.5,  5.6,  5.6, 28. ,\n",
       "       16.8,  5.6,  5.6,  5.6,  5.6,  5.6,  5.6,  5.6,  5.6,  5.6,  5.6])"
      ]
     },
     "execution_count": 6,
     "metadata": {},
     "output_type": "execute_result"
    }
   ],
   "source": [
    "data2013_y3 = pd.read_csv(\"https://raw.githubusercontent.com/vigneshjmurali/Data-Science-Comp/master/Imputed/data2013_y3.csv\")\n",
    "data2013_y3.head(3)\n",
    "data2013_y3.shape\n",
    "pred2013_y3 = pd.read_csv(\"https://raw.githubusercontent.com/vigneshjmurali/Data-Science-Comp/master/Imputed/prediction_13y3.csv\")\n",
    "pred2013_y3.head(3)\n",
    "pred2013_y3.shape\n",
    "xtrain_13y3=pd.DataFrame(data2013_y3.values[:,1:27])\n",
    "xtest_13y3=pd.DataFrame(pred2013_y3.values[:,1:27])\n",
    "ytrain_13y3=pd.DataFrame(data2013_y3.values[:,27])\n",
    "ytest_13y3=pd.DataFrame(pred2013_y3.values[:,27])\n",
    "bingr = BaggingRegressor().fit(xtrain_13y3, ytrain_13y3)\n",
    "y_mod_13y3 = bingr.predict(xtest_13y3)\n",
    "y_mod_13y3\n",
    "#y_mody_13y3=pd.DataFrame(y_mod_13y3)\n",
    "#y_mody_13y3.to_csv('pred13_y3.csv', index=False, header=False)"
   ]
  },
  {
   "cell_type": "markdown",
   "metadata": {},
   "source": [
    "## predict_14_Chgenro - data2014_y1  - random forest"
   ]
  },
  {
   "cell_type": "code",
   "execution_count": 49,
   "metadata": {},
   "outputs": [],
   "source": [
    "data2014_y1 = pd.read_csv(\"https://raw.githubusercontent.com/vigneshjmurali/Data-Science-Comp/master/Imputed/data2014_y1.csv\")\n",
    "data2014_y1.head(3)\n",
    "data2014_y1.shape\n",
    "pred2014_y1 = pd.read_csv(\"https://raw.githubusercontent.com/vigneshjmurali/Data-Science-Comp/master/Imputed/prediction_14y1.csv\")\n",
    "pred2014_y1.head(3)\n",
    "pred2014_y1.shape\n",
    "xtrain_14y1=pd.DataFrame(data2014_y1.values[:,1:30])\n",
    "xtest_14y1=pd.DataFrame(pred2014_y1.values[:,1:30])\n",
    "ytrain_14y1=pd.DataFrame(data2014_y1.values[:,30])\n",
    "ytest_14y1=pd.DataFrame(pred2014_y1.values[:,30])\n",
    "rfr = RandomForestRegressor().fit(xtrain_14y1, ytrain_14y1)\n",
    "y_mod_14y1=rfr.predict(xtest_14y1)\n",
    "y_mod_14y1\n",
    "y_mod_14y1=pd.DataFrame(y_mod_14y1)\n",
    "y_mod_14y1.to_csv('pred14_y1.csv', index=False, header=False)"
   ]
  },
  {
   "cell_type": "markdown",
   "metadata": {},
   "source": [
    "## predict_14_Fracdeg - data2014_y2 - random forest"
   ]
  },
  {
   "cell_type": "code",
   "execution_count": 13,
   "metadata": {},
   "outputs": [
    {
     "data": {
      "text/plain": [
       "array([0.21681499, 0.14584364, 0.15731195, 0.19295019, 0.19916164,\n",
       "       0.50622218, 0.20078994, 0.18607466, 0.19020126, 0.18723045,\n",
       "       0.3430509 , 0.27075967, 0.19572571, 0.21738633, 0.25958227,\n",
       "       0.22832434, 0.30525597, 0.22871216, 0.163932  , 0.24414953,\n",
       "       0.22940383, 0.22795641, 0.23493079, 0.2460004 , 0.26112404,\n",
       "       0.223119  , 0.18428466, 0.45851646, 0.23677109, 0.21676609,\n",
       "       0.23654991, 0.17745294, 0.27969656, 0.25026456, 0.14277686,\n",
       "       0.19936132, 0.1891313 , 0.17953634, 0.60587096, 0.58944526,\n",
       "       0.25169939, 0.22903744, 0.16781726, 0.17577196, 0.18902153,\n",
       "       0.2191469 , 0.1440068 , 0.17860848, 0.18464839, 0.18873503,\n",
       "       0.20670731, 0.19767281, 0.1619824 , 0.18108446, 0.20435443,\n",
       "       0.19973393, 0.18125671, 0.18332953, 0.17386824, 0.20182288,\n",
       "       0.23984986, 0.29151625, 0.21903892, 0.17220323, 0.18928352,\n",
       "       0.24631206, 0.20049874, 0.24344551, 0.18992169, 0.20162137,\n",
       "       0.19332745, 0.2022874 , 0.18678208, 0.18996872, 0.19738782,\n",
       "       0.17618464, 0.17380352, 0.18563052, 0.18269445, 0.20102085,\n",
       "       0.18912679, 0.14536366, 0.15892006, 0.15993875, 0.19093658,\n",
       "       0.24642357, 0.2448463 , 0.20394218, 0.22134927, 0.22493215,\n",
       "       0.24915002, 0.25950599, 0.21676451, 0.16319064, 0.20245171,\n",
       "       0.20699434, 0.2018972 , 0.21229601, 0.2472334 , 0.21368264,\n",
       "       0.20580888, 0.18589005, 0.16230907, 0.17864492, 0.22035139,\n",
       "       0.13298705, 0.18851372, 0.15351565, 0.20102436, 0.23136926,\n",
       "       0.23818455, 0.18241929, 0.23574818, 0.15326979, 0.14086426,\n",
       "       0.19064098, 0.20622537, 0.14742316, 0.19918267, 0.14985834,\n",
       "       0.20638567, 0.20492307, 0.19573548, 0.17603845, 0.17977908,\n",
       "       0.21308182, 0.20716207, 0.19581262, 0.26006234, 0.18019534,\n",
       "       0.23459419, 0.18508453, 0.18231687, 0.21195609, 0.2046403 ,\n",
       "       0.19650759, 0.13042017, 0.23292659, 0.21286564, 0.1954528 ,\n",
       "       0.23708898, 0.22492016, 0.13918977, 0.2753094 , 0.27421428,\n",
       "       0.21366583, 0.26080149, 0.10199736, 0.21228949, 0.21079121,\n",
       "       0.21410188, 0.22688716, 0.25836282, 0.23049963, 0.22837834,\n",
       "       0.24249965, 0.19074579, 0.17857264, 0.2073926 , 0.22127122,\n",
       "       0.21626744, 0.2051753 , 0.2079439 , 0.21768884, 0.22455218,\n",
       "       0.15381037, 0.33030408, 0.09802465, 0.11124442, 0.19161853,\n",
       "       0.192142  , 0.22116564, 0.1984282 , 0.20203012, 0.19979824,\n",
       "       0.20683443, 0.18073441, 0.1878585 , 0.20278413, 0.1684255 ,\n",
       "       0.20819865, 0.21321368, 0.18748728, 0.20169802, 0.20782419,\n",
       "       0.13647146, 0.1998443 , 0.20903125, 0.15187618, 0.20648998,\n",
       "       0.16983602, 0.21823308, 0.19533663, 0.31283197, 0.1978743 ,\n",
       "       0.20799624, 0.20973576, 0.2146431 , 0.19226347, 0.22753242,\n",
       "       0.25291242, 0.14746666, 0.19388157, 0.20322267, 0.23205006,\n",
       "       0.53159684, 0.18697817, 0.16942469, 0.12269479, 0.15160288,\n",
       "       0.16783399, 0.13046328, 0.20076595, 0.190384  , 0.17295994,\n",
       "       0.17498212, 0.16850507, 0.20086392, 0.17109532, 0.13943171,\n",
       "       0.16113931, 0.24465892, 0.2239954 , 0.25218627, 0.09936046,\n",
       "       0.14772138, 0.1878035 , 0.18487403, 0.21978173, 0.20348907,\n",
       "       0.18057008, 0.19594171, 0.17311015, 0.16119167, 0.17248409,\n",
       "       0.22175959, 0.18330599, 0.19639422, 0.22480414, 0.19433771,\n",
       "       0.25126618, 0.19155954, 0.23878275, 0.20445869, 0.18678617,\n",
       "       0.22888575, 0.17688219, 0.18082414, 0.18679168, 0.17151126,\n",
       "       0.18742906, 0.15454337, 0.16127958, 0.16750761, 0.19350837,\n",
       "       0.18464916, 0.15526868, 0.15389384, 0.1792762 , 0.19411201,\n",
       "       0.16892774, 0.18956456, 0.16903317, 0.14848249, 0.15205236,\n",
       "       0.12029905, 0.13028237, 0.14897123, 0.21493691, 0.21225092,\n",
       "       0.18486207, 0.46603051, 0.18682845, 0.25669177, 0.16420882,\n",
       "       0.18505862, 0.22003893, 0.16899527, 0.20518698, 0.1803271 ,\n",
       "       0.49745781, 0.21110552, 0.22358259, 0.40464414, 0.21970169,\n",
       "       0.22776887, 0.17250679, 0.16136006, 0.25274844, 0.3423331 ,\n",
       "       0.10436124, 0.17823747, 0.16647807, 0.14625001, 0.21000647,\n",
       "       0.15640558, 0.20730806])"
      ]
     },
     "execution_count": 13,
     "metadata": {},
     "output_type": "execute_result"
    }
   ],
   "source": [
    "data2014_y2 = pd.read_csv(\"https://raw.githubusercontent.com/vigneshjmurali/Data-Science-Comp/master/Imputed/data2014_y2.csv\")\n",
    "data2014_y2.head(3)\n",
    "data2014_y2.shape\n",
    "pred2014_y2 = pd.read_csv(\"https://raw.githubusercontent.com/vigneshjmurali/Data-Science-Comp/master/Imputed/prediction_14y2.csv\")\n",
    "pred2014_y2.head(3)\n",
    "pred2014_y2.shape\n",
    "xtrain_14y2=pd.DataFrame(data2014_y2.values[:,1:30])\n",
    "xtest_14y2=pd.DataFrame(pred2014_y2.values[:,1:30])\n",
    "ytrain_14y2=pd.DataFrame(data2014_y2.values[:,30])\n",
    "ytest_14y2=pd.DataFrame(pred2014_y2.values[:,30])\n",
    "rfr = RandomForestRegressor().fit(xtrain_14y2, ytrain_14y2)\n",
    "y_mod_14y2=rfr.predict(xtest_14y2)\n",
    "y_mod_14y2"
   ]
  },
  {
   "cell_type": "markdown",
   "metadata": {},
   "source": [
    "## predict_14_Fracdeg - data2014_y2 - bagging regressor"
   ]
  },
  {
   "cell_type": "code",
   "execution_count": 50,
   "metadata": {},
   "outputs": [],
   "source": [
    "data2014_y2 = pd.read_csv(\"https://raw.githubusercontent.com/vigneshjmurali/Data-Science-Comp/master/Imputed/data2014_y2.csv\")\n",
    "data2014_y2.head(3)\n",
    "data2014_y2.shape\n",
    "pred2014_y2 = pd.read_csv(\"https://raw.githubusercontent.com/vigneshjmurali/Data-Science-Comp/master/Imputed/prediction_14y2.csv\")\n",
    "pred2014_y2.head(3)\n",
    "pred2014_y2.shape\n",
    "xtrain_14y2=pd.DataFrame(data2014_y2.values[:,1:30])\n",
    "xtest_14y2=pd.DataFrame(pred2014_y2.values[:,1:30])\n",
    "ytrain_14y2=pd.DataFrame(data2014_y2.values[:,30])\n",
    "ytest_14y2=pd.DataFrame(pred2014_y2.values[:,30])\n",
    "bingr = BaggingRegressor().fit(xtrain_14y2, ytrain_14y2)\n",
    "y_mod_14y2_1=bingr.predict(xtest_14y2)\n",
    "y_mod_14y2_1\n",
    "y_mod_14y2_1=pd.DataFrame(y_mod_14y2_1)\n",
    "y_mod_14y2_1.to_csv('pred14_y2.csv', index=False, header=False)"
   ]
  },
  {
   "cell_type": "markdown",
   "metadata": {},
   "source": [
    "## predic_14_RETPCNT - data2014_y3 - random forest"
   ]
  },
  {
   "cell_type": "code",
   "execution_count": 51,
   "metadata": {},
   "outputs": [],
   "source": [
    "data2014_y3 = pd.read_csv(\"https://raw.githubusercontent.com/vigneshjmurali/Data-Science-Comp/master/Imputed/data2014_y3.csv\")\n",
    "data2014_y3.head(3)\n",
    "data2014_y3.shape\n",
    "pred2014_y3 = pd.read_csv(\"https://raw.githubusercontent.com/vigneshjmurali/Data-Science-Comp/master/Imputed/prediction_14y3.csv\")\n",
    "pred2014_y3.head(3)\n",
    "pred2014_y3.shape\n",
    "xtrain_14y3=pd.DataFrame(data2014_y3.values[:,1:30])\n",
    "xtest_14y3=pd.DataFrame(pred2014_y3.values[:,1:30])\n",
    "ytrain_14y3=pd.DataFrame(data2014_y3.values[:,30])\n",
    "ytest_14y3=pd.DataFrame(pred2014_y3.values[:,30])\n",
    "rfr = RandomForestRegressor().fit(xtrain_14y3, ytrain_14y3)\n",
    "y_mod_14y3=rfr.predict(xtest_14y3)\n",
    "y_mod_14y3\n",
    "y_mod_14y3=pd.DataFrame(y_mod_14y3)\n",
    "y_mod_14y3.to_csv('pred14_y3.csv', index=False, header=False)"
   ]
  },
  {
   "cell_type": "markdown",
   "metadata": {},
   "source": [
    "## predic_15_Chgenrol - data2015_y1 - random forest"
   ]
  },
  {
   "cell_type": "code",
   "execution_count": 52,
   "metadata": {},
   "outputs": [],
   "source": [
    "data2015_y1 = pd.read_csv(\"https://raw.githubusercontent.com/vigneshjmurali/Data-Science-Comp/master/Imputed/data2015_y1.csv\")\n",
    "data2015_y1.head(3)\n",
    "data2015_y1.shape\n",
    "pred2015_y1 = pd.read_csv(\"https://raw.githubusercontent.com/vigneshjmurali/Data-Science-Comp/master/Imputed/prediction_15y1.csv\")\n",
    "pred2015_y1.head(3)\n",
    "pred2015_y1.shape\n",
    "xtrain_15y1=pd.DataFrame(data2015_y1.values[:,1:27])\n",
    "xtest_15y1=pd.DataFrame(pred2015_y1.values[:,1:27])\n",
    "ytrain_15y1=pd.DataFrame(data2015_y1.values[:,27])\n",
    "ytest_15y2=pd.DataFrame(pred2015_y1.values[:,27])\n",
    "rfr = RandomForestRegressor().fit(xtrain_15y1, ytrain_15y1)\n",
    "y_mod_15y1=rfr.predict(xtest_15y1)\n",
    "y_mod_15y1\n",
    "y_mod_15y1=pd.DataFrame(y_mod_15y1)\n",
    "y_mod_15y1.to_csv('pred15_y1.csv', index=False, header=False)"
   ]
  },
  {
   "cell_type": "markdown",
   "metadata": {},
   "source": [
    "## predic_15_FRANC - data2015_y2 - random forest"
   ]
  },
  {
   "cell_type": "code",
   "execution_count": 19,
   "metadata": {},
   "outputs": [
    {
     "data": {
      "text/plain": [
       "array([0.2042984 , 0.13037048, 0.17045888, 0.15699265, 0.21437573,\n",
       "       0.47179022, 0.21562399, 0.20538084, 0.21237699, 0.18572644,\n",
       "       0.25171926, 0.26219824, 0.17877383, 0.19271979, 0.24917366,\n",
       "       0.21470626, 0.25632733, 0.3214088 , 0.23340398, 0.19755978,\n",
       "       0.26209793, 0.25963705, 0.20609328, 0.26983576, 0.23547269,\n",
       "       0.20906157, 0.18836425, 0.28466339, 0.22299197, 0.24031134,\n",
       "       0.23726747, 0.18791667, 0.26995322, 0.22959133, 0.17015922,\n",
       "       0.20867531, 0.19262292, 0.19383884, 0.26708033, 0.33122183,\n",
       "       0.24030924, 0.23754411, 0.17919501, 0.15952027, 0.17312803,\n",
       "       0.22594934, 0.14398364, 0.14447908, 0.18189687, 0.17106881,\n",
       "       0.22032186, 0.19971385, 0.1597488 , 0.18222397, 0.21677957,\n",
       "       0.2071422 , 0.22090784, 0.19501844, 0.17700939, 0.20561432,\n",
       "       0.23502079, 0.27543098, 0.22117257, 0.1732575 , 0.19194211,\n",
       "       0.22238296, 0.21845847, 0.22229722, 0.19587801, 0.18532036,\n",
       "       0.22214339, 0.21732298, 0.19639167, 0.25414084, 0.17953884,\n",
       "       0.19115717, 0.18495185, 0.16190383, 0.19274127, 0.20645371,\n",
       "       0.19252264, 0.19969108, 0.1618034 , 0.15523555, 0.11238412,\n",
       "       0.23382491, 0.22529679, 0.20513426, 0.224568  , 0.2454357 ,\n",
       "       0.25498184, 0.23243685, 0.18725452, 0.17544503, 0.23327056,\n",
       "       0.2094342 , 0.20989288, 0.20696879, 0.25049676, 0.23884961,\n",
       "       0.21651332, 0.21297372, 0.18416617, 0.1836901 , 0.2428864 ,\n",
       "       0.14096346, 0.18749934, 0.1677652 , 0.22391116, 0.17387169,\n",
       "       0.23025007, 0.1773876 , 0.24221841, 0.14446075, 0.15976182,\n",
       "       0.19322142, 0.19552468, 0.16569386, 0.21280451, 0.19958334,\n",
       "       0.20995796, 0.22549774, 0.21339634, 0.18488928, 0.18627875,\n",
       "       0.21638991, 0.20090631, 0.21314381, 0.24655662, 0.18121896,\n",
       "       0.20637182, 0.17717621, 0.22349508, 0.20758979, 0.20970994,\n",
       "       0.20549094, 0.20549605, 0.24560907, 0.23422408, 0.20723567,\n",
       "       0.25387711, 0.23968654, 0.11521825, 0.11944292, 0.28578809,\n",
       "       0.24722559, 0.27533051, 0.09732893, 0.21590801, 0.20604594,\n",
       "       0.20335385, 0.19751875, 0.27373173, 0.22396903, 0.21206599,\n",
       "       0.24407559, 0.19929245, 0.18961877, 0.18501543, 0.2338845 ,\n",
       "       0.21394035, 0.20686918, 0.20654172, 0.21845445, 0.22357567,\n",
       "       0.07032706, 0.20248904, 0.05893009, 0.17136126, 0.18515031,\n",
       "       0.18391616, 0.21481322, 0.1799545 , 0.18596306, 0.23394761,\n",
       "       0.17623744, 0.20584925, 0.18328832, 0.21108039, 0.19855325,\n",
       "       0.25840417, 0.18873003, 0.21638465, 0.19400558, 0.22963044,\n",
       "       0.11832198, 0.19429406, 0.21142462, 0.16416848, 0.19852308,\n",
       "       0.18373791, 0.21553218, 0.20017195, 0.38919605, 0.21138549,\n",
       "       0.21901332, 0.22676878, 0.19049059, 0.23393822, 0.24348971,\n",
       "       0.26097963, 0.16190749, 0.20675375, 0.21900897, 0.23075668,\n",
       "       0.53934637, 0.19340876, 0.14233992, 0.15887277, 0.28678343,\n",
       "       0.17993597, 0.26620663, 0.22673971, 0.22541658, 0.18329712,\n",
       "       0.14638826, 0.17958969, 0.18381042, 0.18265725, 0.14897986,\n",
       "       0.14982893, 0.22347924, 0.2200951 , 0.1748261 , 0.1151816 ,\n",
       "       0.13482937, 0.20729389, 0.18807242, 0.23345788, 0.2389237 ,\n",
       "       0.16319748, 0.19407064, 0.23735805, 0.17403866, 0.18606985,\n",
       "       0.20409645, 0.18715118, 0.18433755, 0.23635927, 0.183893  ,\n",
       "       0.23595264, 0.18763357, 0.22255233, 0.21193435, 0.20334491,\n",
       "       0.24040106, 0.17735735, 0.18418305, 0.21483278, 0.17809012,\n",
       "       0.21468425, 0.16566638, 0.12953377, 0.21086847, 0.19163814,\n",
       "       0.18864051, 0.16099364, 0.1228504 , 0.1887338 , 0.21552745,\n",
       "       0.18156173, 0.20674612, 0.18432558, 0.15210149, 0.23638951,\n",
       "       0.1207972 , 0.12668115, 0.05203869, 0.28414686, 0.22008571,\n",
       "       0.19830075, 0.36294027, 0.19101938, 0.24429166, 0.16275666,\n",
       "       0.19834183, 0.20367909, 0.22886731, 0.19378608, 0.19794668,\n",
       "       0.36687852, 0.17915657, 0.17942373, 0.21622109, 0.22574968,\n",
       "       0.23895883, 0.19192603, 0.15149697, 0.22059221, 0.12192365,\n",
       "       0.1144472 , 0.15490092, 0.17166596, 0.16485457, 0.18019872,\n",
       "       0.16524427, 0.22791786])"
      ]
     },
     "execution_count": 19,
     "metadata": {},
     "output_type": "execute_result"
    }
   ],
   "source": [
    "data2015_y2 = pd.read_csv(\"https://raw.githubusercontent.com/vigneshjmurali/Data-Science-Comp/master/Imputed/data2015_y2.csv\")\n",
    "data2015_y2.head(3)\n",
    "data2015_y2.shape\n",
    "pred2015_y2 = pd.read_csv(\"https://raw.githubusercontent.com/vigneshjmurali/Data-Science-Comp/master/Imputed/prediction_15y2.csv\")\n",
    "pred2015_y2.head(3)\n",
    "pred2015_y2.shape\n",
    "xtrain_15y2=pd.DataFrame(data2015_y2.values[:,1:27])\n",
    "xtest_15y2=pd.DataFrame(pred2015_y2.values[:,1:27])\n",
    "ytrain_15y2=pd.DataFrame(data2015_y2.values[:,27])\n",
    "ytest_15y2=pd.DataFrame(pred2015_y2.values[:,27])\n",
    "rfr = RandomForestRegressor().fit(xtrain_15y2, ytrain_15y2)\n",
    "y_mod_15y2=rfr.predict(xtest_15y2)\n",
    "y_mod_15y2"
   ]
  },
  {
   "cell_type": "markdown",
   "metadata": {},
   "source": [
    "## predic_15_fracde - data2015_y2 - bagging regresorr"
   ]
  },
  {
   "cell_type": "code",
   "execution_count": 53,
   "metadata": {},
   "outputs": [],
   "source": [
    "data2015_y2 = pd.read_csv(\"https://raw.githubusercontent.com/vigneshjmurali/Data-Science-Comp/master/Imputed/data2015_y2.csv\")\n",
    "data2015_y2.head(3)\n",
    "data2015_y2.shape\n",
    "pred2015_y2 = pd.read_csv(\"https://raw.githubusercontent.com/vigneshjmurali/Data-Science-Comp/master/Imputed/prediction_15y2.csv\")\n",
    "pred2015_y2.head(3)\n",
    "pred2015_y2.shape\n",
    "xtrain_15y2=pd.DataFrame(data2015_y2.values[:,1:27])\n",
    "xtest_15y2=pd.DataFrame(pred2015_y2.values[:,1:27])\n",
    "ytrain_15y2=pd.DataFrame(data2015_y2.values[:,27])\n",
    "ytest_15y2=pd.DataFrame(pred2015_y2.values[:,27])\n",
    "bingr = BaggingRegressor().fit(xtrain_15y2, ytrain_15y2)\n",
    "y_mod_15y2_1=bingr.predict(xtest_15y2)\n",
    "y_mod_15y2_1\n",
    "y_mod_15y2_1=pd.DataFrame(y_mod_15y2_1)\n",
    "y_mod_15y2_1.to_csv('pred15_y2.csv', index=False, header=False)"
   ]
  },
  {
   "cell_type": "markdown",
   "metadata": {},
   "source": [
    "## predic_15_retpcnt - data2015_y3 - random forest"
   ]
  },
  {
   "cell_type": "code",
   "execution_count": 21,
   "metadata": {},
   "outputs": [
    {
     "data": {
      "text/plain": [
       "array([88.6, 21.2, 58.3, 53.6, 60.2, 67.2, 84.2, 59.7, 82.8, 60. , 38.5,\n",
       "       96.7, 79.3, 76.6, 91.7, 62. , 53.4, 38.4, 77.3, 52.9, 80. , 79. ,\n",
       "       82.6, 84.4, 93.9, 56. , 77.4, 49.2, 68.7, 83.8, 86.5, 75.3, 97.8,\n",
       "       83. , 30.1, 79.6, 73.3, 58.8, 25.1, 28.3, 87.3, 91.9, 29.9, 31.1,\n",
       "       61.7, 28.5, 24.4, 46.8, 22. , 73.3, 23.7, 79.5, 25.1, 34.3, 87.2,\n",
       "       74.8, 62.5, 60.5, 32.4, 61.6, 86. , 96.8, 79.3, 78.3, 61.4, 66.1,\n",
       "       75.3, 91.4, 62.2, 61.7, 74.5, 87.9, 63.2, 37.4, 56.8, 34.7, 50.3,\n",
       "       47.7, 39.4, 58.1, 35.9, 40.4, 65.4, 45.7, 48. , 84.2, 91.3, 72.8,\n",
       "       73.5, 81.7, 98.2, 94.2, 83.1, 76.5, 74.6, 87.2, 86.8, 75.1, 93.5,\n",
       "       88.7, 82.2, 82. , 75.1, 36.6, 84.8, 68.8, 75. , 72.4, 64.8, 48.6,\n",
       "       91. , 28.8, 85.5, 42.9, 33.8, 84.1, 49.9, 65.1, 50.7, 45. , 87.5,\n",
       "       86.6, 77. , 74.5, 44.7, 85.3, 69.1, 34. , 57.8, 61.2, 39.5, 44.2,\n",
       "       76.9, 76.3, 76.1, 86.6, 22.1, 80.5, 87.1, 61. , 77.3, 91.2, 65.3,\n",
       "       29. , 97.4, 81.8, 86.3, 37.9, 34. , 42.9, 40.9, 34.7, 92.1, 65.7,\n",
       "       78.4, 84.3, 38.8, 38.2, 46.3, 90.3, 86.7, 81.4, 45.2, 72.4, 71.9,\n",
       "       43.1, 32.1, 49.3, 50.1, 75.1, 76.6, 92.5, 23. , 24.3, 76.3, 22.1,\n",
       "       23.5, 22. , 85.9, 77.7, 86.2, 76.5, 34.9, 38.2, 72.2, 45.5, 51.4,\n",
       "       92. , 33.5, 75.5, 49.2, 65.4, 74.2, 37.1, 78.9, 77.2, 66.6, 62.1,\n",
       "       47.9, 82.2, 94.8, 57.8, 78.8, 63.8, 90.7, 34.6, 81. , 76.2, 79. ,\n",
       "       40.7, 60. , 48.2, 91.2, 62.7, 54.2, 61.1, 22.7, 30.5, 26.3, 15.7,\n",
       "       72.7, 81.2, 40.8, 56.5, 21.1, 19.9, 60. , 60.7, 89.3, 89.5, 22. ,\n",
       "       33.2, 72.5, 63.8, 35. , 85.4, 61.3, 46.8, 85.3, 79.6, 92.3, 76.4,\n",
       "       87.6, 88.3, 68. , 86. , 60.3, 50.1, 59.6, 42.7, 80.9, 57.2, 34.8,\n",
       "       76.2, 81.9, 78.3, 55.2, 63.2, 79.1, 29.4, 61.8, 62.6, 62.3, 49.6,\n",
       "       61. , 46.9, 47.4, 48.2, 45.2, 78.1, 83.3, 48.1, 78.1, 97.2, 42.9,\n",
       "       81.7, 78.8, 52.9, 17. , 44.4, 44.3, 43.1, 42.8, 37.9, 24.1, 51.2,\n",
       "       33.4, 14.6, 28.2, 48.7, 41. , 55.2, 29.6, 38.4, 23. , 42.4, 68.1])"
      ]
     },
     "execution_count": 21,
     "metadata": {},
     "output_type": "execute_result"
    }
   ],
   "source": [
    "data2015_y3 = pd.read_csv(\"https://raw.githubusercontent.com/vigneshjmurali/Data-Science-Comp/master/Imputed/data2015_y3.csv\")\n",
    "data2015_y3.head(3)\n",
    "data2015_y3.shape\n",
    "pred2015_y3 = pd.read_csv(\"https://raw.githubusercontent.com/vigneshjmurali/Data-Science-Comp/master/Imputed/prediction_15y3.csv\")\n",
    "pred2015_y3.head(3)\n",
    "pred2015_y3.shape\n",
    "xtrain_15y3=pd.DataFrame(data2015_y3.values[:,1:27])\n",
    "xtest_15y3=pd.DataFrame(pred2015_y3.values[:,1:27])\n",
    "ytrain_15y3=pd.DataFrame(data2015_y3.values[:,27])\n",
    "ytest_15y3=pd.DataFrame(pred2015_y3.values[:,27])\n",
    "rfr = RandomForestRegressor().fit(xtrain_15y3, ytrain_15y3)\n",
    "y_mod_15y3=rfr.predict(xtest_15y3)\n",
    "y_mod_15y3"
   ]
  },
  {
   "cell_type": "markdown",
   "metadata": {},
   "source": [
    "## predic_15_retpcnt- data2015_y3 - bagging regresorr"
   ]
  },
  {
   "cell_type": "code",
   "execution_count": 54,
   "metadata": {},
   "outputs": [],
   "source": [
    "data2015_y3 = pd.read_csv(\"https://raw.githubusercontent.com/vigneshjmurali/Data-Science-Comp/master/Imputed/data2015_y3.csv\")\n",
    "data2015_y3.head(3)\n",
    "data2015_y3.shape\n",
    "pred2015_y3 = pd.read_csv(\"https://raw.githubusercontent.com/vigneshjmurali/Data-Science-Comp/master/Imputed/prediction_15y3.csv\")\n",
    "pred2015_y3.head(3)\n",
    "pred2015_y3.shape\n",
    "xtrain_15y3=pd.DataFrame(data2015_y3.values[:,1:27])\n",
    "xtest_15y3=pd.DataFrame(pred2015_y3.values[:,1:27])\n",
    "ytrain_15y3=pd.DataFrame(data2015_y3.values[:,27])\n",
    "ytest_15y3=pd.DataFrame(pred2015_y3.values[:,27])\n",
    "bingr = BaggingRegressor().fit(xtrain_15y3, ytrain_15y3)\n",
    "y_mod_15y3_1=bingr.predict(xtest_15y3)\n",
    "y_mod_15y3_1\n",
    "y_mod_15y3_1=pd.DataFrame(y_mod_15y3_1)\n",
    "y_mod_15y3_1.to_csv('pred15_y3.csv', index=False, header=False)"
   ]
  },
  {
   "cell_type": "markdown",
   "metadata": {},
   "source": [
    "## predic_16_Chgenrol - data2016_y1 - random forest"
   ]
  },
  {
   "cell_type": "code",
   "execution_count": 55,
   "metadata": {},
   "outputs": [],
   "source": [
    "data2016_y1 = pd.read_csv(\"https://raw.githubusercontent.com/vigneshjmurali/Data-Science-Comp/master/Imputed/data2016_y1.csv\")\n",
    "data2016_y1.head(3)\n",
    "data2016_y1.shape\n",
    "pred2016_y1 = pd.read_csv(\"https://raw.githubusercontent.com/vigneshjmurali/Data-Science-Comp/master/Imputed/prediction_16y1.csv\")\n",
    "pred2016_y1.head(3)\n",
    "pred2016_y1.shape\n",
    "xtrain_16y1=pd.DataFrame(data2016_y1.values[:,1:30])\n",
    "xtest_16y1=pd.DataFrame(pred2016_y1.values[:,1:30])\n",
    "ytrain_16y1=pd.DataFrame(data2016_y1.values[:,30])\n",
    "ytest_16y1=pd.DataFrame(pred2016_y1.values[:,30])\n",
    "rfr = RandomForestRegressor().fit(xtrain_16y1, ytrain_16y1)\n",
    "y_mod_16y1=rfr.predict(xtest_16y1)\n",
    "y_mod_16y1\n",
    "y_mod_16y1=pd.DataFrame(y_mod_16y1)\n",
    "y_mod_16y1.to_csv('pred16_y1.csv', index=False, header=False)"
   ]
  },
  {
   "cell_type": "markdown",
   "metadata": {},
   "source": [
    "## predic_16_fracdegre - data2016_y2 - random forest"
   ]
  },
  {
   "cell_type": "code",
   "execution_count": 26,
   "metadata": {},
   "outputs": [
    {
     "data": {
      "text/plain": [
       "array([1.00259816, 1.01795324, 1.03850404, 0.95297124, 0.91808606,\n",
       "       1.01773419, 1.08374879, 1.13768541, 1.03072891, 1.03671494,\n",
       "       0.98056431, 0.81408   , 1.02002812, 1.08898405, 1.02789765,\n",
       "       1.08509958, 1.14302848, 1.03662915, 1.02843536, 0.98210339,\n",
       "       0.84402285, 0.99390783, 1.12106909, 0.95362905, 1.01436194,\n",
       "       0.97825889, 1.06622248, 0.95295551, 0.98557532, 1.0109104 ,\n",
       "       0.98512795, 0.97290932, 0.94431247, 0.93688728, 1.08251148,\n",
       "       0.98212679, 1.08242834, 1.02180779, 0.96858141, 1.04915108,\n",
       "       1.02398875, 0.99129572, 1.10804864, 1.06982296, 1.06307808,\n",
       "       0.9653006 , 1.00595637, 0.95148243, 1.00434839, 0.93126264,\n",
       "       1.089131  , 1.03081442, 1.0178952 , 1.0181789 , 1.0133675 ,\n",
       "       0.97911518, 1.01930111, 1.08150504, 1.00593301, 0.97392486,\n",
       "       1.02878817, 1.01246388, 0.97455238, 1.01391817, 1.01564724,\n",
       "       1.01539104, 0.94569501, 0.99973508, 1.0079019 , 0.83232368,\n",
       "       0.98822676, 0.96995038, 1.05204857, 0.96650326, 1.04625571,\n",
       "       1.02607751, 1.01344925, 0.94180472, 1.06757751, 0.9809066 ,\n",
       "       1.05465339, 1.02897312, 1.08751282, 1.01324619, 1.02404237,\n",
       "       1.01858821, 1.02947275, 1.01886454, 1.01420356, 1.04114631,\n",
       "       0.84768848, 0.95419848, 1.08272556, 1.01566284, 1.00047402,\n",
       "       1.00649604, 0.99553079, 1.0084216 , 1.01859468, 1.00306765,\n",
       "       0.99072723, 0.98932358, 1.01369609, 0.96946801, 1.00833473,\n",
       "       1.14413074, 1.11262684, 0.9395988 , 1.09719314, 1.00016833,\n",
       "       1.00343922, 1.07650176, 1.00320719, 1.03067838, 1.09855223,\n",
       "       1.01372794, 1.05630327, 1.16673223, 1.03353727, 0.85137821,\n",
       "       1.00848053, 1.08733113, 1.09560671, 1.02180256, 1.06549424,\n",
       "       1.06803629, 1.00400799, 1.03190673, 1.02218581, 1.06667724,\n",
       "       1.09720754, 0.95999511, 0.98088719, 0.99493874, 0.95165254,\n",
       "       1.06134471, 0.90640847, 1.0033029 , 1.00218654, 0.97880874,\n",
       "       1.07299007, 1.00787351, 0.82369934, 1.0487757 , 0.88267128,\n",
       "       0.98629314, 0.84629767, 0.95290223, 1.04692806, 1.01601617,\n",
       "       1.02527258, 1.02822186, 1.01033697, 0.99207332, 1.00339363,\n",
       "       1.01967045, 0.98049921, 1.05125113, 1.02365808, 1.04319389,\n",
       "       0.99046153, 1.04509069, 0.98753168, 1.0087958 , 0.96283314,\n",
       "       1.03806404, 1.05336166, 1.04544673, 1.02446167, 1.00826694,\n",
       "       0.97892052, 1.00944074, 0.95555329, 0.97440675, 0.98616583,\n",
       "       0.99921237, 0.96179047, 1.00796315, 1.00701975, 0.99315986,\n",
       "       1.04681257, 1.06213962, 1.00112406, 1.02935674, 0.98934368,\n",
       "       1.08780831, 0.89757889, 1.00438625, 1.06535327, 1.04804523,\n",
       "       0.97935763, 1.00399701, 1.03652995, 1.04420573, 1.07407613,\n",
       "       0.98610785, 1.00568776, 1.00421622, 0.99593801, 0.98803125,\n",
       "       1.01913294, 0.90068724, 1.0140166 , 1.05883721, 1.01691955,\n",
       "       0.95874222, 1.02552459, 0.97424138, 0.97775844, 1.06951624,\n",
       "       0.98862255, 1.09497042, 0.99926613, 1.01947951, 1.00191434,\n",
       "       1.07965279, 1.05614865, 0.97285185, 0.99730487, 1.0157128 ,\n",
       "       1.01331597, 1.02225604, 1.12917317, 1.022681  , 0.96117576,\n",
       "       0.97833173, 1.04035251, 1.00407431, 1.01519895, 1.00839958,\n",
       "       1.0476632 , 1.09932517, 1.01309288, 1.13795761, 1.01788705,\n",
       "       1.00790053, 1.09729864, 1.04601787, 1.052906  , 1.12568729,\n",
       "       1.09522264, 1.08779791, 1.02329252, 0.96978847, 1.00599009,\n",
       "       1.00093882, 1.01880864, 1.02922301, 0.99851533, 1.01616301,\n",
       "       1.03599723, 0.97024788, 0.95472235, 0.98527476, 1.0722916 ,\n",
       "       1.03673046, 1.01247754, 0.97682379, 1.02566719, 1.04620207,\n",
       "       1.10199833, 0.99850122, 0.98211004, 1.07560619, 1.06771188,\n",
       "       0.99652951, 0.99679582, 1.04520684, 0.89487197, 1.00979578,\n",
       "       1.05531092, 0.98088878, 1.01975498, 0.99521645, 1.02698403,\n",
       "       1.08340293, 1.01208856, 0.95750912, 0.94299209, 1.00414941,\n",
       "       1.07231881, 1.00969504, 1.05109121, 1.05192395, 1.01669034,\n",
       "       1.10917435, 0.94124905, 1.00330984, 0.98112119, 1.20112435,\n",
       "       0.98064164, 0.91941895, 0.94431059, 0.93672369, 0.79093808,\n",
       "       1.03012969, 0.98381227])"
      ]
     },
     "execution_count": 26,
     "metadata": {},
     "output_type": "execute_result"
    }
   ],
   "source": [
    "data2016_y2 = pd.read_csv(\"https://raw.githubusercontent.com/vigneshjmurali/Data-Science-Comp/master/Imputed/data2016_y1.csv\")\n",
    "data2016_y2.head(3)\n",
    "data2016_y2.shape\n",
    "pred2016_y2 = pd.read_csv(\"https://raw.githubusercontent.com/vigneshjmurali/Data-Science-Comp/master/Imputed/prediction_16y1.csv\")\n",
    "pred2016_y2.head(3)\n",
    "pred2016_y2.shape\n",
    "xtrain_16y2=pd.DataFrame(data2016_y2.values[:,1:30])\n",
    "xtest_16y2=pd.DataFrame(pred2016_y2.values[:,1:30])\n",
    "ytrain_16y2=pd.DataFrame(data2016_y2.values[:,30])\n",
    "ytest_16y2=pd.DataFrame(pred2016_y2.values[:,30])\n",
    "rfr = RandomForestRegressor().fit(xtrain_16y2, ytrain_16y2)\n",
    "y_mod_16y2=rfr.predict(xtest_16y2)\n",
    "y_mod_16y2"
   ]
  },
  {
   "cell_type": "markdown",
   "metadata": {},
   "source": [
    "## predic_16_fracdegre - data2016_y2 - bagging"
   ]
  },
  {
   "cell_type": "code",
   "execution_count": 56,
   "metadata": {},
   "outputs": [],
   "source": [
    "data2016_y2 = pd.read_csv(\"https://raw.githubusercontent.com/vigneshjmurali/Data-Science-Comp/master/Imputed/data2016_y1.csv\")\n",
    "data2016_y2.head(3)\n",
    "data2016_y2.shape\n",
    "pred2016_y2 = pd.read_csv(\"https://raw.githubusercontent.com/vigneshjmurali/Data-Science-Comp/master/Imputed/prediction_16y1.csv\")\n",
    "pred2016_y2.head(3)\n",
    "pred2016_y2.shape\n",
    "xtrain_16y2=pd.DataFrame(data2016_y2.values[:,1:30])\n",
    "xtest_16y2=pd.DataFrame(pred2016_y2.values[:,1:30])\n",
    "ytrain_16y2=pd.DataFrame(data2016_y2.values[:,30])\n",
    "ytest_16y2=pd.DataFrame(pred2016_y2.values[:,30])\n",
    "bingr = BaggingRegressor().fit(xtrain_16y2, ytrain_16y2)\n",
    "y_mod_16y2_1=bingr.predict(xtest_16y2)\n",
    "y_mod_16y2_1\n",
    "y_mod_16y2_1=pd.DataFrame(y_mod_16y2_1)\n",
    "y_mod_16y2_1.to_csv('pred16_y2.csv', index=False, header=False)"
   ]
  },
  {
   "cell_type": "markdown",
   "metadata": {},
   "source": [
    "## predic_16_fracdegre - data2016_y3 - random forest"
   ]
  },
  {
   "cell_type": "code",
   "execution_count": 57,
   "metadata": {},
   "outputs": [],
   "source": [
    "data2016_y3 = pd.read_csv(\"https://raw.githubusercontent.com/vigneshjmurali/Data-Science-Comp/master/Imputed/data2016_y3.csv\")\n",
    "data2016_y3.head(3)\n",
    "data2016_y3.shape\n",
    "pred2016_y3 = pd.read_csv(\"https://raw.githubusercontent.com/vigneshjmurali/Data-Science-Comp/master/Imputed/prediction_16y3.csv\")\n",
    "pred2016_y3.head(3)\n",
    "pred2016_y3.shape\n",
    "xtrain_16y3=pd.DataFrame(data2016_y3.values[:,1:30])\n",
    "xtest_16y3=pd.DataFrame(pred2016_y3.values[:,1:30])\n",
    "ytrain_16y3=pd.DataFrame(data2016_y3.values[:,30])\n",
    "ytest_16y3=pd.DataFrame(pred2016_y3.values[:,30])\n",
    "rfr = RandomForestRegressor().fit(xtrain_16y3, ytrain_16y3)\n",
    "y_mod_16y3=rfr.predict(xtest_16y3)\n",
    "y_mod_16y3\n",
    "y_mod_16y3=pd.DataFrame(y_mod_16y3)\n",
    "y_mod_16y3.to_csv('pred16_y3.csv', index=False, header=False)"
   ]
  },
  {
   "cell_type": "markdown",
   "metadata": {},
   "source": [
    "## predic_16_fracdegre - data2016_y3 - bagging regressor"
   ]
  },
  {
   "cell_type": "code",
   "execution_count": 32,
   "metadata": {},
   "outputs": [
    {
     "data": {
      "text/plain": [
       "array([88.6, 23.1, 59.8, 35.3, 16.3, 25.9, 70.4, 33.7, 79.2, 64.4, 23.2,\n",
       "       86.5, 53.9, 53.8, 90. , 64.1, 26.9, 18.5, 38.6, 26.7, 46.5, 86.2,\n",
       "       77.8, 71.8, 92.5, 39.3, 46. , 25.7, 63.1, 65.4, 68.9, 77.2, 96.4,\n",
       "       65.7, 25. , 47.6, 75. , 61.8, 21.2, 20.4, 85.5, 89.3, 21.6, 33.4,\n",
       "       32.3, 33. , 33.7, 37.3, 34.9, 55. , 24. , 53.2, 30.3, 56.5, 74.8,\n",
       "       69.9, 27.6, 31.9, 28.1, 62.1, 57.8, 85.9, 49.9, 57.2, 63.7, 70.4,\n",
       "       76.8, 88.9, 60. , 62.6, 73.9, 66. , 64.4, 25.7, 56.9, 28.4, 35.7,\n",
       "       58.3, 27.2, 60.1, 26.1, 24.6, 34.9, 31.1, 35.3, 67. , 89.3, 82.8,\n",
       "       51.5, 53.8, 86.3, 69.3, 67.5, 75.5, 70.7, 85.2, 75.4, 70.6, 93.1,\n",
       "       77.8, 79.4, 53. , 68.1, 25.2, 82.6, 53.5, 74.6, 51.2, 59.9, 13.6,\n",
       "       82.6, 51. , 86.9, 35.9, 27.7, 51.9, 50. , 49.5, 30.1, 51. , 77.9,\n",
       "       90.8, 60.7, 71.9, 54.4, 86.2, 60.3, 61.2, 63.1, 59.1, 57.9, 21.7,\n",
       "       59.6, 61.3, 59.7, 86.7, 23.1, 80.6, 66. , 63.2, 42.7, 60.4, 25.6,\n",
       "       16.5, 86.5, 59.7, 87.9, 25.9, 11.9, 58. , 19.9, 24. , 91.5, 30.2,\n",
       "       61.7, 84.4, 28.3, 29.1, 38.2, 81.6, 87.6, 64.6, 60.9, 75.1, 72.7,\n",
       "       18.2, 23.3, 21.4, 12.9, 62.6, 51. , 88.5, 32.8, 34.2, 73.2, 32.7,\n",
       "       33. , 34.1, 84.6, 59.4, 82.2, 61.7, 62.3, 35.6, 71.7, 13. , 34.2,\n",
       "       89. , 33.4, 61.6, 35.6, 72.6, 73.2, 20.6, 52.1, 52.7, 54.6, 61.6,\n",
       "       38.3, 62.9, 92.8, 72.5, 69.4, 69.7, 89.9, 21.3, 73.9, 72.5, 54.3,\n",
       "       20.5, 22.2, 50.5, 60. , 60.9, 56.8, 50.4, 23.4, 34.5, 57.9, 33.6,\n",
       "       61. , 77.3, 62.2, 59.6, 35.4, 36.7, 59.6, 63.1, 89.7, 89.1, 29.4,\n",
       "       36.1, 54.8, 70.7, 33.2, 65.6, 27.7, 33.8, 75.1, 63.1, 89.5, 55.3,\n",
       "       89.5, 75.1, 62.9, 67. , 61.5, 63.1, 59.6, 37.7, 66.3, 27.8, 15.2,\n",
       "       30.3, 59.8, 81.3, 20.4, 34.9, 60.1, 18.2, 61.6, 63.4, 55. , 25.7,\n",
       "       22.2, 22.6, 21.4, 23.8, 14.7, 54.3, 80.5, 25.4, 69.9, 95.9, 21. ,\n",
       "       56.5, 58.5, 27.4, 22.7, 20.6, 18.4, 29. , 30.2, 15.3, 19.9, 23.7,\n",
       "       16.6, 16.9, 22.5, 21.6, 15.8, 15.8, 22.6, 17.3, 15.2, 15.8, 65.4])"
      ]
     },
     "execution_count": 32,
     "metadata": {},
     "output_type": "execute_result"
    }
   ],
   "source": [
    "data2016_y3 = pd.read_csv(\"https://raw.githubusercontent.com/vigneshjmurali/Data-Science-Comp/master/Imputed/data2016_y3.csv\")\n",
    "data2016_y3.head(3)\n",
    "data2016_y3.shape\n",
    "pred2016_y3 = pd.read_csv(\"https://raw.githubusercontent.com/vigneshjmurali/Data-Science-Comp/master/Imputed/prediction_16y3.csv\")\n",
    "pred2016_y3.head(3)\n",
    "pred2016_y3.shape\n",
    "xtrain_16y3=pd.DataFrame(data2016_y3.values[:,1:30])\n",
    "xtest_16y3=pd.DataFrame(pred2016_y3.values[:,1:30])\n",
    "ytrain_16y3=pd.DataFrame(data2016_y3.values[:,30])\n",
    "ytest_16y3=pd.DataFrame(pred2016_y3.values[:,30])\n",
    "bingr = BaggingRegressor().fit(xtrain_16y3, ytrain_16y3)\n",
    "y_mod_16y3_1=bingr.predict(xtest_16y3)\n",
    "y_mod_16y3_1"
   ]
  },
  {
   "cell_type": "code",
   "execution_count": null,
   "metadata": {},
   "outputs": [],
   "source": []
  }
 ],
 "metadata": {
  "kernelspec": {
   "display_name": "Python 3",
   "language": "python",
   "name": "python3"
  },
  "language_info": {
   "codemirror_mode": {
    "name": "ipython",
    "version": 3
   },
   "file_extension": ".py",
   "mimetype": "text/x-python",
   "name": "python",
   "nbconvert_exporter": "python",
   "pygments_lexer": "ipython3",
   "version": "3.6.5"
  }
 },
 "nbformat": 4,
 "nbformat_minor": 2
}
